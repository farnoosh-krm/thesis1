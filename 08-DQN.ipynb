{
 "cells": [
  {
   "cell_type": "code",
   "execution_count": 1,
   "id": "a3eff031-3af8-4989-a3d9-e615226f576f",
   "metadata": {},
   "outputs": [],
   "source": [
    "import sys\n",
    "sys.path.append(\"C:/Users/parspooya/anaconda3/envs/myNewEnv/Lib/site-packages\")\n",
    "\n",
    "import numpy as np\n",
    "import pandas as pd\n",
    "from stable_baselines3 import DQN\n",
    "from stable_baselines3.common.vec_env import DummyVecEnv\n",
    "import gym\n",
    "from gym import spaces\n",
    "from sklearn.model_selection import train_test_split\n",
    "from sklearn.metrics import accuracy_score, f1_score, precision_score, recall_score\n",
    "import matplotlib.pyplot as plt\n",
    "from stable_baselines3.common.callbacks import BaseCallback\n",
    "from stable_baselines3.common.logger import configure"
   ]
  },
  {
   "cell_type": "code",
   "execution_count": 2,
   "id": "3c871410-6151-46be-a7ef-5e4e92a5a840",
   "metadata": {},
   "outputs": [],
   "source": [
    "# بارگذاری دیتاست\n",
    "data = pd.read_excel('Book5.xlsx')"
   ]
  },
  {
   "cell_type": "code",
   "execution_count": 3,
   "id": "7a560f88-b305-475a-ad8d-39620f51806b",
   "metadata": {},
   "outputs": [],
   "source": [
    "# داده‌های ورودی و خروجی\n",
    "X = data[['p1','k1','s1','t1','a1','p2','k2','s2','t2','a2','p3','k3','s3','t3','a3','p4','k4','s4','t4','a4','p5','k5','s5','t5','a5'\n",
    "]].values\n",
    "y = data['task_variant'].values"
   ]
  },
  {
   "cell_type": "code",
   "execution_count": 4,
   "id": "92ea1e53-2c37-4c37-b8a5-417a6e9219a5",
   "metadata": {},
   "outputs": [],
   "source": [
    "# تقسیم داده‌ها به داده‌های آموزشی و تست\n",
    "X_train, X_test, y_train, y_test = train_test_split(X, y, test_size=0.2, random_state=42)"
   ]
  },
  {
   "cell_type": "code",
   "execution_count": 5,
   "id": "02382926-925c-4274-b419-16a65697e348",
   "metadata": {},
   "outputs": [],
   "source": [
    "# تعریف محیط\n",
    "class CustomEnv(gym.Env):\n",
    "    def __init__(self, X, y):\n",
    "        super(CustomEnv, self).__init__()\n",
    "        self.X = X\n",
    "        self.y = y\n",
    "        self.current_step = 0\n",
    "        self.action_space = spaces.Discrete(3)  # 3 actions: 1, 2, or 3\n",
    "        self.observation_space = spaces.Box(low=-np.inf, high=np.inf, shape=(25,), dtype=np.float32)\n",
    "        self.current_episode_reward = 0\n",
    "\n",
    "    def reset(self):\n",
    "        self.current_step = 0\n",
    "        self.current_episode_reward = 0\n",
    "        return self.X[self.current_step]\n",
    "    \n",
    "    def step(self, action):\n",
    "        reward = 1 if action + 1 == self.y[self.current_step] else 0\n",
    "        self.current_episode_reward += reward\n",
    "        self.current_step += 1\n",
    "        done = self.current_step >= len(self.X)\n",
    "        obs = self.X[self.current_step] if not done else np.zeros(self.observation_space.shape)\n",
    "        info = {'episode': {'r': self.current_episode_reward, 'l': self.current_step}} if done else {}\n",
    "        return obs, reward, done, info\n",
    "    \n",
    "    def render(self, mode='human'):\n",
    "        pass"
   ]
  },
  {
   "cell_type": "code",
   "execution_count": 6,
   "id": "7ae533fb-e8ed-460d-adfb-8b6ce3836e8c",
   "metadata": {},
   "outputs": [],
   "source": [
    "# تعریف Callback\n",
    "class CustomCallback(BaseCallback):\n",
    "    def __init__(self, verbose=0):\n",
    "        super(CustomCallback, self).__init__(verbose)\n",
    "        self.episode_lengths = []\n",
    "        self.losses = []\n",
    "        self.episode_rewards = []\n",
    "\n",
    "    def _on_step(self) -> bool:\n",
    "        if 'loss' in self.locals:\n",
    "            loss = self.locals['loss'].item()\n",
    "            self.losses.append(loss)\n",
    "\n",
    "        if 'dones' in self.locals and self.locals['dones'][0]:\n",
    "            self.episode_lengths.append(self.locals['infos'][0]['episode']['l'])\n",
    "            self.episode_rewards.append(self.locals['infos'][0]['episode']['r'])\n",
    "        return True\n",
    "\n",
    "    def get_metrics(self):\n",
    "        return self.losses, self.episode_lengths, self.episode_rewards"
   ]
  },
  {
   "cell_type": "code",
   "execution_count": 7,
   "id": "ecd6b6d2-87d9-4a51-a99a-8111235c2ca9",
   "metadata": {},
   "outputs": [
    {
     "ename": "NameError",
     "evalue": "name 'model' is not defined",
     "output_type": "error",
     "traceback": [
      "\u001b[1;31m---------------------------------------------------------------------------\u001b[0m",
      "\u001b[1;31mNameError\u001b[0m                                 Traceback (most recent call last)",
      "Cell \u001b[1;32mIn[7], line 1\u001b[0m\n\u001b[1;32m----> 1\u001b[0m \u001b[38;5;28;01mdel\u001b[39;00m model\n",
      "\u001b[1;31mNameError\u001b[0m: name 'model' is not defined"
     ]
    }
   ],
   "source": [
    "del model"
   ]
  },
  {
   "cell_type": "code",
   "execution_count": 8,
   "id": "60f1bedd-dc86-43fe-8ae8-cf9e4ee13676",
   "metadata": {},
   "outputs": [
    {
     "name": "stderr",
     "output_type": "stream",
     "text": [
      "C:\\Users/parspooya/anaconda3/envs/myNewEnv/Lib/site-packages\\stable_baselines3\\common\\vec_env\\patch_gym.py:49: UserWarning: You provided an OpenAI Gym environment. We strongly recommend transitioning to Gymnasium environments. Stable-Baselines3 is automatically wrapping your environments in a compatibility layer, which could potentially cause issues.\n",
      "  warnings.warn(\n"
     ]
    },
    {
     "name": "stdout",
     "output_type": "stream",
     "text": [
      "Using cpu device\n",
      "Logging to ./dqn_tensorboard/DQN_1\n",
      "----------------------------------\n",
      "| rollout/            |          |\n",
      "|    ep_len_mean      | 8e+03    |\n",
      "|    ep_rew_mean      | 7.3e+03  |\n",
      "|    exploration_rate | 1e-10    |\n",
      "| time/               |          |\n",
      "|    episodes         | 4        |\n",
      "|    fps              | 561      |\n",
      "|    time_elapsed     | 56       |\n",
      "|    total_timesteps  | 32000    |\n",
      "| train/              |          |\n",
      "|    learning_rate    | 0.001    |\n",
      "|    loss             | 0.0663   |\n",
      "|    n_updates        | 7974     |\n",
      "----------------------------------\n",
      "----------------------------------\n",
      "| rollout/            |          |\n",
      "|    ep_len_mean      | 8e+03    |\n",
      "|    ep_rew_mean      | 7.54e+03 |\n",
      "|    exploration_rate | 1e-10    |\n",
      "| time/               |          |\n",
      "|    episodes         | 8        |\n",
      "|    fps              | 555      |\n",
      "|    time_elapsed     | 115      |\n",
      "|    total_timesteps  | 64000    |\n",
      "| train/              |          |\n",
      "|    learning_rate    | 0.001    |\n",
      "|    loss             | 0.0719   |\n",
      "|    n_updates        | 15974    |\n",
      "----------------------------------\n",
      "----------------------------------\n",
      "| rollout/            |          |\n",
      "|    ep_len_mean      | 8e+03    |\n",
      "|    ep_rew_mean      | 7.65e+03 |\n",
      "|    exploration_rate | 1e-10    |\n",
      "| time/               |          |\n",
      "|    episodes         | 12       |\n",
      "|    fps              | 554      |\n",
      "|    time_elapsed     | 173      |\n",
      "|    total_timesteps  | 96000    |\n",
      "| train/              |          |\n",
      "|    learning_rate    | 0.001    |\n",
      "|    loss             | 0.0464   |\n",
      "|    n_updates        | 23974    |\n",
      "----------------------------------\n"
     ]
    }
   ],
   "source": [
    "# ساخت وکتور محیط و آموزش مدل DQN\n",
    "env = DummyVecEnv([lambda: CustomEnv(X_train, y_train)])\n",
    "\n",
    "# تنظیمات مدل DQN\n",
    "model = DQN(\n",
    "    'MlpPolicy', \n",
    "    env, \n",
    "    learning_rate=0.001,   \n",
    "    gamma=0.99,            \n",
    "    exploration_fraction=0.01, \n",
    "    exploration_final_eps=0.0000000001,\n",
    "    target_update_interval=1000,\n",
    "    learning_starts=100,\n",
    "    buffer_size=500000,\n",
    "    tensorboard_log='./dqn_tensorboard/' ,\n",
    "    verbose=1\n",
    ")\n",
    "\n",
    "\n",
    "# callback = CustomCallback()\n",
    "# history = model.learn(total_timesteps=100000, log_interval=4, callback=callback)\n",
    "\n",
    "history = model.learn(total_timesteps=100000, log_interval=4)\n",
    "\n",
    "# model.save(\"dqn_25enters\")"
   ]
  },
  {
   "cell_type": "code",
   "execution_count": 9,
   "id": "ae61a230-5594-4e61-b48f-3e6ba6cd7f30",
   "metadata": {},
   "outputs": [
    {
     "name": "stdout",
     "output_type": "stream",
     "text": [
      "Accuracy: 98.10%\n",
      "F1 Score: 0.98\n",
      "Precision: 0.98\n",
      "Recall: 0.98\n"
     ]
    }
   ],
   "source": [
    "# ارزیابی مدل\n",
    "env = CustomEnv(X_test, y_test)\n",
    "obs = env.reset()\n",
    "correct_predictions = 0\n",
    "total_predictions = 0\n",
    "\n",
    "# لیست پیش‌بینی‌ها و برچسب‌های واقعی\n",
    "all_predictions = []\n",
    "all_labels = []\n",
    "\n",
    "while True:\n",
    "    action, _states = model.predict(obs)\n",
    "    obs, reward, done, info = env.step(action)\n",
    "    correct_predictions += reward\n",
    "    total_predictions += 1\n",
    "    all_predictions.append(action + 1)  # عمل‌ها از 0، 1، 2 به 1، 2، 3 تبدیل می‌شوند\n",
    "    all_labels.append(env.y[env.current_step - 1])\n",
    "    if done:\n",
    "        obs = env.reset()\n",
    "        break\n",
    "\n",
    "# ارزیابی\n",
    "accuracy = accuracy_score(all_labels, all_predictions)\n",
    "f1 = f1_score(all_labels, all_predictions, average='weighted')\n",
    "precision = precision_score(all_labels, all_predictions, average='weighted')\n",
    "recall = recall_score(all_labels, all_predictions, average='weighted')\n",
    "\n",
    "print(f'Accuracy: {accuracy*100:.2f}%')\n",
    "print(f'F1 Score: {f1:.2f}')\n",
    "print(f'Precision: {precision:.2f}')\n",
    "print(f'Recall: {recall:.2f}')\n"
   ]
  },
  {
   "cell_type": "code",
   "execution_count": 90,
   "id": "31059fdd-3157-48d3-be0c-40de28b031b9",
   "metadata": {},
   "outputs": [],
   "source": [
    "# tensorboard --logdir ./dqn_tensorboard/"
   ]
  },
  {
   "cell_type": "code",
   "execution_count": null,
   "id": "b819e1b2-74d5-46f9-83e5-b32cd14e732b",
   "metadata": {},
   "outputs": [],
   "source": []
  }
 ],
 "metadata": {
  "kernelspec": {
   "display_name": "Python 3 (ipykernel)",
   "language": "python",
   "name": "python3"
  },
  "language_info": {
   "codemirror_mode": {
    "name": "ipython",
    "version": 3
   },
   "file_extension": ".py",
   "mimetype": "text/x-python",
   "name": "python",
   "nbconvert_exporter": "python",
   "pygments_lexer": "ipython3",
   "version": "3.11.5"
  }
 },
 "nbformat": 4,
 "nbformat_minor": 5
}
