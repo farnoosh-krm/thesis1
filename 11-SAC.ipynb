{
 "cells": [
  {
   "cell_type": "code",
   "execution_count": 1,
   "id": "8ab8d9a9-baed-405e-9214-2cde5a82e81e",
   "metadata": {},
   "outputs": [],
   "source": [
    "import sys\n",
    "sys.path.append(\"C:/Users/parspooya/anaconda3/envs/myNewEnv/Lib/site-packages\")\n",
    "\n",
    "import numpy as np\n",
    "import pandas as pd\n",
    "from stable_baselines3.common.vec_env import DummyVecEnv\n",
    "from stable_baselines3 import SAC\n",
    "import gym\n",
    "from gym import spaces\n",
    "from sklearn.model_selection import train_test_split\n",
    "from sklearn.metrics import accuracy_score, f1_score, precision_score, recall_score\n",
    "import matplotlib.pyplot as plt\n",
    "from stable_baselines3.common.callbacks import BaseCallback\n",
    "from stable_baselines3.common.logger import configure"
   ]
  },
  {
   "cell_type": "code",
   "execution_count": 2,
   "id": "b32d5c22-9ff1-4947-b336-8b638c48b05b",
   "metadata": {},
   "outputs": [],
   "source": [
    "# بارگذاری دیتاست\n",
    "data = pd.read_excel('Book5.xlsx')"
   ]
  },
  {
   "cell_type": "code",
   "execution_count": 10,
   "id": "08adf60f-81c5-4171-a71b-20fd18067f4e",
   "metadata": {},
   "outputs": [],
   "source": [
    "# داده‌های ورودی و خروجی\n",
    "X = data[['p1','k1','s1','t1','a1','p2','k2','s2','t2','a2','p3','k3','s3','t3','a3','p4','k4','s4','t4','a4','p5','k5','s5','t5','a5']].values\n",
    "y = data['task_variant'].values"
   ]
  },
  {
   "cell_type": "code",
   "execution_count": 11,
   "id": "a2f8ffcc-d4d9-4fa9-97d6-922d03e53603",
   "metadata": {},
   "outputs": [],
   "source": [
    "# تقسیم داده‌ها به داده‌های آموزشی و تست\n",
    "X_train, X_test, y_train, y_test = train_test_split(X, y, test_size=0.2, random_state=42)"
   ]
  },
  {
   "cell_type": "code",
   "execution_count": 12,
   "id": "0db76cac-fa2b-41b7-8e9e-e603be03c33f",
   "metadata": {},
   "outputs": [],
   "source": [
    "# تعریف محیط \n",
    "class CustomEnv(gym.Env):\n",
    "    def __init__(self, X, y):\n",
    "        super(CustomEnv, self).__init__()\n",
    "        self.X = X\n",
    "        self.y = y\n",
    "        self.current_step = 0\n",
    "        self.action_space = spaces.Box(low=-1, high=1, shape=(1,), dtype=np.float32)  # فضای عمل پیوسته\n",
    "        self.observation_space = spaces.Box(low=-np.inf, high=np.inf, shape=(25,), dtype=np.float32)\n",
    "    \n",
    "    def reset(self):\n",
    "        self.current_step = 0\n",
    "        return self.X[self.current_step]\n",
    "    \n",
    "    def step(self, action):\n",
    "        action = np.clip(action, 0, 2)  # مقادیر عمل را به محدوده 0 تا 2 تغییر می‌دهیم\n",
    "        reward = 1 if int(action) + 1 == self.y[self.current_step] else 0\n",
    "        self.current_step += 1\n",
    "        done = self.current_step >= len(self.X)\n",
    "        obs = self.X[self.current_step] if not done else np.zeros(self.observation_space.shape)\n",
    "        return obs, reward, done, {}\n",
    "    \n",
    "    def render(self, mode='human'):\n",
    "        pass"
   ]
  },
  {
   "cell_type": "code",
   "execution_count": 9,
   "id": "3eabc2c7-c1d3-4028-8f21-1597090b15fb",
   "metadata": {},
   "outputs": [],
   "source": [
    "del model"
   ]
  },
  {
   "cell_type": "code",
   "execution_count": 13,
   "id": "5b0321e9-a202-4048-9e0b-0b911b5b8337",
   "metadata": {},
   "outputs": [
    {
     "name": "stdout",
     "output_type": "stream",
     "text": [
      "Using cpu device\n",
      "Logging to ./dqn_tensorboard/SAC_3\n"
     ]
    },
    {
     "name": "stderr",
     "output_type": "stream",
     "text": [
      "C:\\Users\\parspooya\\anaconda3\\Lib\\site-packages\\stable_baselines3\\common\\vec_env\\patch_gym.py:49: UserWarning: You provided an OpenAI Gym environment. We strongly recommend transitioning to Gymnasium environments. Stable-Baselines3 is automatically wrapping your environments in a compatibility layer, which could potentially cause issues.\n",
      "  warnings.warn(\n"
     ]
    },
    {
     "name": "stdout",
     "output_type": "stream",
     "text": [
      "---------------------------------\n",
      "| time/              |          |\n",
      "|    episodes        | 4        |\n",
      "|    fps             | 27       |\n",
      "|    time_elapsed    | 1152     |\n",
      "|    total_timesteps | 32000    |\n",
      "| train/             |          |\n",
      "|    actor_loss      | -40.8    |\n",
      "|    critic_loss     | 0.229    |\n",
      "|    ent_coef        | 0.0199   |\n",
      "|    ent_coef_loss   | 0.111    |\n",
      "|    learning_rate   | 0.0003   |\n",
      "|    n_updates       | 31899    |\n",
      "---------------------------------\n",
      "---------------------------------\n",
      "| time/              |          |\n",
      "|    episodes        | 8        |\n",
      "|    fps             | 28       |\n",
      "|    time_elapsed    | 2251     |\n",
      "|    total_timesteps | 64000    |\n",
      "| train/             |          |\n",
      "|    actor_loss      | -47.3    |\n",
      "|    critic_loss     | 0.287    |\n",
      "|    ent_coef        | 0.0184   |\n",
      "|    ent_coef_loss   | -0.665   |\n",
      "|    learning_rate   | 0.0003   |\n",
      "|    n_updates       | 63899    |\n",
      "---------------------------------\n",
      "---------------------------------\n",
      "| time/              |          |\n",
      "|    episodes        | 12       |\n",
      "|    fps             | 28       |\n",
      "|    time_elapsed    | 3366     |\n",
      "|    total_timesteps | 96000    |\n",
      "| train/             |          |\n",
      "|    actor_loss      | -48.9    |\n",
      "|    critic_loss     | 0.234    |\n",
      "|    ent_coef        | 0.0144   |\n",
      "|    ent_coef_loss   | 0.157    |\n",
      "|    learning_rate   | 0.0003   |\n",
      "|    n_updates       | 95899    |\n",
      "---------------------------------\n"
     ]
    },
    {
     "data": {
      "text/plain": [
       "<stable_baselines3.sac.sac.SAC at 0x1bf91021910>"
      ]
     },
     "execution_count": 13,
     "metadata": {},
     "output_type": "execute_result"
    }
   ],
   "source": [
    "# ساخت وکتور محیط و آموزش مدل SAC\n",
    "env = DummyVecEnv([lambda: CustomEnv(X_train, y_train)])\n",
    "\n",
    "model = SAC(\n",
    "    'MlpPolicy', \n",
    "    env, \n",
    "    tensorboard_log='./dqn_tensorboard/' ,\n",
    "    verbose=1\n",
    ")\n",
    "\n",
    "\n",
    "model.learn(total_timesteps=100000, log_interval=4)\n",
    "# model.save(\"sac_25enters\")\n"
   ]
  },
  {
   "cell_type": "code",
   "execution_count": 14,
   "id": "9ae427a4-a0d6-4fd2-9b40-78a13d077112",
   "metadata": {},
   "outputs": [
    {
     "name": "stdout",
     "output_type": "stream",
     "text": [
      "Accuracy: 50.35%\n",
      "F1 Score: 0.34\n",
      "Precision: 0.25\n",
      "Recall: 0.50\n"
     ]
    },
    {
     "name": "stderr",
     "output_type": "stream",
     "text": [
      "C:\\Users\\parspooya\\anaconda3\\Lib\\site-packages\\sklearn\\metrics\\_classification.py:1517: UndefinedMetricWarning: Precision is ill-defined and being set to 0.0 in labels with no predicted samples. Use `zero_division` parameter to control this behavior.\n",
      "  _warn_prf(average, modifier, f\"{metric.capitalize()} is\", len(result))\n"
     ]
    }
   ],
   "source": [
    "# ارزیابی مدل\n",
    "env = CustomEnv(X_test, y_test)\n",
    "obs = env.reset()\n",
    "correct_predictions = 0\n",
    "total_predictions = 0\n",
    "\n",
    "# لیست پیش‌بینی‌ها و برچسب‌های واقعی\n",
    "all_predictions = []\n",
    "all_labels = []\n",
    "\n",
    "while True:\n",
    "    action, _states = model.predict(obs)\n",
    "    obs, reward, done, info = env.step(action)\n",
    "    correct_predictions += reward\n",
    "    total_predictions += 1\n",
    "    all_predictions.append(int(action) + 1)\n",
    "    all_labels.append(env.y[env.current_step - 1])\n",
    "    \n",
    "    if done:\n",
    "        obs = env.reset()\n",
    "        break\n",
    "\n",
    "# ارزیابی\n",
    "accuracy = accuracy_score(all_labels, all_predictions)\n",
    "f1 = f1_score(all_labels, all_predictions, average='weighted')\n",
    "precision = precision_score(all_labels, all_predictions, average='weighted')\n",
    "recall = recall_score(all_labels, all_predictions, average='weighted')\n",
    "\n",
    "print(f'Accuracy: {accuracy*100:.2f}%')\n",
    "print(f'F1 Score: {f1:.2f}')\n",
    "print(f'Precision: {precision:.2f}')\n",
    "print(f'Recall: {recall:.2f}')\n"
   ]
  },
  {
   "cell_type": "code",
   "execution_count": null,
   "id": "49741adf-5ffe-415b-b1b1-c0fae1cf50be",
   "metadata": {},
   "outputs": [],
   "source": []
  }
 ],
 "metadata": {
  "kernelspec": {
   "display_name": "Python 3 (ipykernel)",
   "language": "python",
   "name": "python3"
  },
  "language_info": {
   "codemirror_mode": {
    "name": "ipython",
    "version": 3
   },
   "file_extension": ".py",
   "mimetype": "text/x-python",
   "name": "python",
   "nbconvert_exporter": "python",
   "pygments_lexer": "ipython3",
   "version": "3.11.5"
  }
 },
 "nbformat": 4,
 "nbformat_minor": 5
}
